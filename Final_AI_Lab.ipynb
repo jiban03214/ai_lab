{
 "cells": [
  {
   "cell_type": "markdown",
   "id": "6a62f9de-c098-4e1e-945f-0f44cfe20d70",
   "metadata": {},
   "source": [
    "# 1. Implement Breadth First Search(BFS) on a Graph and show the output."
   ]
  },
  {
   "cell_type": "markdown",
   "id": "984c0058-c991-43c3-8d6d-fb06ff20d59b",
   "metadata": {},
   "source": [
    "## Given Graph"
   ]
  },
  {
   "cell_type": "code",
   "execution_count": 1,
   "id": "ea477372-ae4e-4028-9acf-b1a0e82cd609",
   "metadata": {},
   "outputs": [],
   "source": [
    "graph = {\n",
    "    's': {'a', 'b'},\n",
    "    'a': {'c', 'd'},\n",
    "    'b': {'a', 'd'},\n",
    "    'c': {'g'},\n",
    "    'd': {'g'},\n",
    "    'g': {}\n",
    "}"
   ]
  },
  {
   "cell_type": "markdown",
   "id": "0ac3e40b-9cf0-47ca-bfb8-62ce23f4dd4a",
   "metadata": {},
   "source": [
    "## BFS Function"
   ]
  },
  {
   "cell_type": "code",
   "execution_count": 2,
   "id": "12120813-c935-48f4-a99d-1adcf6f81a03",
   "metadata": {},
   "outputs": [],
   "source": [
    "def bfs_search(graph, start, goal):\n",
    "    open_set = [start]\n",
    "    closed_set = set()\n",
    "    came_from = {}\n",
    "\n",
    "    while open_set:\n",
    "        current = open_set.pop(0)\n",
    "        if current == goal:\n",
    "            return reconstruct_path(came_from, current)\n",
    "\n",
    "        closed_set.add(current)\n",
    "\n",
    "        for neighbor in graph[current]:\n",
    "            if neighbor not in closed_set:\n",
    "                came_from[neighbor] = current\n",
    "                open_set.append(neighbor)\n",
    "\n",
    "    return None"
   ]
  },
  {
   "cell_type": "markdown",
   "id": "b5cede70-3741-4445-b333-b10d1991dde5",
   "metadata": {},
   "source": [
    "## Path Function"
   ]
  },
  {
   "cell_type": "code",
   "execution_count": 3,
   "id": "d78b8c06-98f2-4d46-8a3e-209a947d0d2e",
   "metadata": {},
   "outputs": [],
   "source": [
    "def reconstruct_path(came_from, current):\n",
    "    path = [current]\n",
    "    while current in came_from:\n",
    "        current = came_from[current]\n",
    "        path.append(current)\n",
    "    return path[::-1] "
   ]
  },
  {
   "cell_type": "markdown",
   "id": "ebc03667-f5ca-4e0a-8c27-2dba2c8089e9",
   "metadata": {},
   "source": [
    "## Finding Path"
   ]
  },
  {
   "cell_type": "code",
   "execution_count": 4,
   "id": "4705854c-dc43-4bcf-8984-38683a0e15d4",
   "metadata": {},
   "outputs": [
    {
     "name": "stdout",
     "output_type": "stream",
     "text": [
      "Optimal path: ['s', 'b', 'd', 'g']\n"
     ]
    }
   ],
   "source": [
    "path = bfs_search(graph, 's', 'g')\n",
    "print(\"Optimal path:\", path)"
   ]
  },
  {
   "cell_type": "markdown",
   "id": "5b2ae8ca-8fa5-491e-a55f-2506332f9060",
   "metadata": {},
   "source": [
    "# 2. Implement Depth First Search(DFS) on a Graph and show the output."
   ]
  },
  {
   "cell_type": "markdown",
   "id": "7df05461-5a56-46e2-bb10-3afec06ade1f",
   "metadata": {},
   "source": [
    "## Given Graph"
   ]
  },
  {
   "cell_type": "code",
   "execution_count": 1,
   "id": "28187408-bcab-47db-8575-7efffb824438",
   "metadata": {},
   "outputs": [],
   "source": [
    "graph = {'s': {'a', 'b'},\n",
    "         'a': {'c', 'd'},\n",
    "         'b': {'a', 'd'},\n",
    "         'c': {'g'},\n",
    "         'd': {'g'},\n",
    "         'g': {}\n",
    "}"
   ]
  },
  {
   "cell_type": "markdown",
   "id": "d1fc3fff-a2b1-44df-8b69-78a4696a1b71",
   "metadata": {},
   "source": [
    "## DFS Function"
   ]
  },
  {
   "cell_type": "code",
   "execution_count": 2,
   "id": "bd75f723-a29a-4f4a-b2f2-42fa4c5014f9",
   "metadata": {},
   "outputs": [],
   "source": [
    "def dfs_search(graph, start, goal):\n",
    "    open_set = [start]  # Use a stack for DFS\n",
    "    closed_set = set()\n",
    "    came_from = {}\n",
    "\n",
    "    while open_set:\n",
    "        current = open_set.pop()  # Pop the last node (LIFO)\n",
    "        if current == goal:\n",
    "            return reconstruct_path(came_from, current)\n",
    "\n",
    "        closed_set.add(current)\n",
    "\n",
    "        for neighbor in graph[current]:\n",
    "            if neighbor not in closed_set:\n",
    "                came_from[neighbor] = current\n",
    "                open_set.append(neighbor)  # Push neighbors onto the stack\n",
    "\n",
    "    return None  # No path found"
   ]
  },
  {
   "cell_type": "markdown",
   "id": "3a12f826-8591-4289-9313-ab5e5a518d3e",
   "metadata": {},
   "source": [
    "## Path Function"
   ]
  },
  {
   "cell_type": "code",
   "execution_count": 3,
   "id": "f8fae40e-947e-4e44-a684-e7abc0a950a4",
   "metadata": {},
   "outputs": [],
   "source": [
    "def reconstruct_path(came_from, current):\n",
    "    path = [current]\n",
    "    while current in came_from:\n",
    "        current = came_from[current]\n",
    "        path.append(current)\n",
    "    return path[::-1]  # Reverse to get start-to-goal path"
   ]
  },
  {
   "cell_type": "markdown",
   "id": "6bfc477b-0266-4a96-aeb3-0657eee5601a",
   "metadata": {},
   "source": [
    "## Finding Path"
   ]
  },
  {
   "cell_type": "code",
   "execution_count": 4,
   "id": "73d2b991-2e2d-4f3e-bd3a-1db727a71f50",
   "metadata": {},
   "outputs": [
    {
     "name": "stdout",
     "output_type": "stream",
     "text": [
      "Path found using DFS: ['s', 'a', 'd', 'g']\n"
     ]
    }
   ],
   "source": [
    "path = dfs_search(graph, 's', 'g')\n",
    "print(\"Path found using DFS:\", path)"
   ]
  },
  {
   "cell_type": "markdown",
   "id": "c25275d2-7e60-4d8f-9589-e8e6939afb9a",
   "metadata": {},
   "source": [
    "# 3. Implement A* Searching Algorithm on a Graph and show the output."
   ]
  },
  {
   "cell_type": "markdown",
   "id": "278e470e-ee70-4831-9eb5-46365d6119be",
   "metadata": {},
   "source": [
    "## Given graph"
   ]
  },
  {
   "cell_type": "code",
   "execution_count": 1,
   "id": "d5ad13a4-fd27-4ef5-aa3d-6e38e9ba1315",
   "metadata": {},
   "outputs": [],
   "source": [
    "graph = {\n",
    "    's': {'a': 3, 'b': 5},\n",
    "    'a': {'c': 2, 'd': 4},\n",
    "    'b': {'a': 2, 'd': 2},\n",
    "    'c': {'g': 1},\n",
    "    'd': {'g': 2},\n",
    "    'g': {}\n",
    "}\n",
    "\n",
    "heuristic = {'s': 5, 'a': 4, 'b': 3, 'c': 1, 'd': 2, 'g': 0}"
   ]
  },
  {
   "cell_type": "markdown",
   "id": "40602525-eb77-4f9d-8c34-80f648ec51d8",
   "metadata": {},
   "source": [
    "## A* Algorithm"
   ]
  },
  {
   "cell_type": "code",
   "execution_count": 2,
   "id": "ec6a0499-90b7-4100-ae9c-cb8cffdc899a",
   "metadata": {},
   "outputs": [],
   "source": [
    "def astar_search(graph, start, goal, heuristic):\n",
    "    open_set = {start}\n",
    "    closed_set = set()\n",
    "    came_from = {}\n",
    "    g_score = {start: 0}\n",
    "    f_score = {start: heuristic[start]}\n",
    "\n",
    "    while open_set:\n",
    "        current = min(open_set, key=f_score.get)\n",
    "        if current == goal:\n",
    "            return reconstruct_path(came_from, current)\n",
    "\n",
    "        open_set.remove(current)\n",
    "        closed_set.add(current)\n",
    "\n",
    "        for neighbor, cost in graph[current].items():\n",
    "            tentative_g_score = g_score[current] + cost\n",
    "            if neighbor not in closed_set and (neighbor not in open_set or tentative_g_score < g_score[neighbor]):\n",
    "                came_from[neighbor] = current\n",
    "                g_score[neighbor] = tentative_g_score\n",
    "                f_score[neighbor] = tentative_g_score + heuristic[neighbor]\n",
    "                open_set.add(neighbor)\n",
    "\n",
    "    return None"
   ]
  },
  {
   "cell_type": "markdown",
   "id": "e2d9fc95-f149-4a0f-8a1b-f5c48ee45425",
   "metadata": {},
   "source": [
    "## Path Function"
   ]
  },
  {
   "cell_type": "code",
   "execution_count": 3,
   "id": "be0609ee-d64c-4848-a951-babe97738f99",
   "metadata": {},
   "outputs": [],
   "source": [
    "def reconstruct_path(came_from, current):\n",
    "    path = [current]\n",
    "    while current in came_from:\n",
    "        current = came_from[current]\n",
    "        path.append(current)\n",
    "    return path[::-1]"
   ]
  },
  {
   "cell_type": "markdown",
   "id": "ecd0d2e4-becd-4ecc-bbd1-80b905aee40b",
   "metadata": {},
   "source": [
    "## Main Body / Finding optimal path"
   ]
  },
  {
   "cell_type": "code",
   "execution_count": 4,
   "id": "3cb195e2-3d39-4a50-901b-ea25ff8d8986",
   "metadata": {},
   "outputs": [
    {
     "name": "stdout",
     "output_type": "stream",
     "text": [
      "Optimal path: ['s', 'a', 'c', 'g']\n"
     ]
    }
   ],
   "source": [
    "path = astar_search(graph, 's', 'g', heuristic)\n",
    "print(\"Optimal path:\", path)"
   ]
  },
  {
   "cell_type": "markdown",
   "id": "0e9a5ff3-70ce-4e47-8698-d459a846b1d6",
   "metadata": {},
   "source": [
    "# 4. Implement Genetic Algorithm."
   ]
  },
  {
   "cell_type": "markdown",
   "id": "82f25f04-d298-4689-aea1-b94ac4529175",
   "metadata": {},
   "source": [
    "## Import Libraries"
   ]
  },
  {
   "cell_type": "code",
   "execution_count": 1,
   "id": "a36d1fe0-2c5c-4883-a8e2-5c7b9709f47e",
   "metadata": {},
   "outputs": [],
   "source": [
    "import random"
   ]
  },
  {
   "cell_type": "markdown",
   "id": "1418847f-08ae-415a-a502-e6107cdc41db",
   "metadata": {},
   "source": [
    "## Creating Initial Population"
   ]
  },
  {
   "cell_type": "code",
   "execution_count": 2,
   "id": "658e08af-4015-43b6-bb3d-c36504d3073e",
   "metadata": {},
   "outputs": [],
   "source": [
    "def crt_pop(pop_size,crom_size):\n",
    "    pop=[]\n",
    "    for i in range(pop_size):\n",
    "        crom=[random.randint(0,1) for i in range(crom_size)]\n",
    "        pop.append(crom)\n",
    "    return pop"
   ]
  },
  {
   "cell_type": "markdown",
   "id": "bf704632-f6aa-4fcb-a4bc-42e4024bdc6a",
   "metadata": {},
   "source": [
    "## Selection Function"
   ]
  },
  {
   "cell_type": "code",
   "execution_count": 3,
   "id": "278718f3-9a4e-4ab4-9908-2b020d6beb72",
   "metadata": {},
   "outputs": [],
   "source": [
    "def select(pop):\n",
    "    assert len(pop)%2==0, 'Population must be in even number'\n",
    "    parents=[]\n",
    "    for i in range(0,len(pop),2):\n",
    "        p1=pop[i]\n",
    "        p2=pop[i+1]\n",
    "        parents.append([p1,p2])\n",
    "    return parents"
   ]
  },
  {
   "cell_type": "markdown",
   "id": "93cb93f3-3d48-4ce0-8645-4de8dc089559",
   "metadata": {},
   "source": [
    "## Cross-over Function"
   ]
  },
  {
   "cell_type": "code",
   "execution_count": 4,
   "id": "76fbb10e-d80b-476a-a4f2-0667f89b6050",
   "metadata": {},
   "outputs": [],
   "source": [
    "def crossover(parents):\n",
    "    children=[]\n",
    "    cros_point=len(parents[0])//2\n",
    "    for p1,p2 in parents:\n",
    "        c1=p1[:cros_point]+p2[cros_point:]\n",
    "        c2=p2[:cros_point]+p1[cros_point:]\n",
    "        children.append(c1)\n",
    "        children.append(c2)\n",
    "    return children"
   ]
  },
  {
   "cell_type": "markdown",
   "id": "b05dd2c0-d438-4ed2-bf61-337c9589e59a",
   "metadata": {},
   "source": [
    "## Mutation Function"
   ]
  },
  {
   "cell_type": "code",
   "execution_count": 5,
   "id": "c7d26f10-6193-425f-bd83-23e94183ac37",
   "metadata": {},
   "outputs": [],
   "source": [
    "def mutation(children,mut_prob):\n",
    "    for i in children:\n",
    "        for j in range(len(i)-1):\n",
    "            if random.random()<mut_prob:\n",
    "                i[j]=1-i[j]"
   ]
  },
  {
   "cell_type": "code",
   "execution_count": 6,
   "id": "15063c11-4d51-4f1a-baa6-25a6e2123f70",
   "metadata": {},
   "outputs": [],
   "source": [
    "def crt_gen(pop_size,crom_size,gen_no,mut_prob):\n",
    "    population=crt_pop(pop_size,crom_size)\n",
    "    print('Inital Population')\n",
    "    print(population)\n",
    "    for i in range(gen_no):\n",
    "        parents=select(population)\n",
    "        children=crossover(parents)\n",
    "        mutation(children,mut_prob)\n",
    "        population=children\n",
    "        print(f'Gen-{i+1}:')\n",
    "        print(population)"
   ]
  },
  {
   "cell_type": "markdown",
   "id": "db711e37-620d-4377-b5fa-1e6dcca49e4a",
   "metadata": {},
   "source": [
    "## Main Body"
   ]
  },
  {
   "cell_type": "code",
   "execution_count": 7,
   "id": "916d29ac-2ba7-4b43-8b74-a35f24fb97ff",
   "metadata": {},
   "outputs": [
    {
     "name": "stdout",
     "output_type": "stream",
     "text": [
      "Inital Population\n",
      "[[0, 0, 1, 0, 0], [0, 1, 1, 1, 1], [0, 1, 1, 1, 0], [1, 0, 1, 0, 0], [1, 0, 0, 1, 1], [0, 1, 0, 0, 0], [1, 0, 0, 1, 0], [1, 1, 1, 1, 0], [0, 0, 0, 0, 1], [1, 1, 1, 1, 0]]\n",
      "Gen-1:\n",
      "[[1, 0, 0, 0, 1], [1, 0, 0, 0, 0], [1, 0, 0, 1, 0], [1, 0, 0, 0, 0], [1, 0, 1, 1, 0], [1, 1, 1, 1, 1], [0, 0, 0, 1, 0], [0, 1, 1, 0, 0], [0, 1, 0, 0, 0], [0, 1, 1, 0, 1]]\n",
      "Gen-2:\n",
      "[[0, 0, 1, 1, 0], [1, 1, 1, 1, 1], [0, 1, 1, 1, 0], [0, 1, 1, 0, 0], [0, 1, 1, 0, 1], [0, 0, 1, 1, 0], [1, 1, 1, 1, 0], [0, 0, 1, 0, 0], [1, 0, 1, 1, 1], [1, 1, 1, 1, 0]]\n",
      "Gen-3:\n",
      "[[0, 0, 0, 1, 1], [0, 0, 1, 0, 0], [0, 0, 1, 0, 0], [0, 0, 1, 1, 0], [0, 1, 1, 0, 0], [0, 1, 0, 1, 1], [1, 1, 1, 0, 0], [0, 0, 0, 0, 0], [0, 1, 0, 1, 0], [1, 1, 0, 0, 1]]\n",
      "Gen-4:\n",
      "[[1, 0, 1, 0, 0], [0, 1, 0, 0, 1], [1, 1, 0, 1, 0], [1, 1, 0, 1, 0], [1, 1, 1, 1, 1], [1, 0, 0, 1, 0], [0, 1, 0, 1, 0], [1, 0, 1, 1, 0], [1, 0, 0, 1, 1], [1, 0, 0, 0, 0]]\n",
      "Gen-5:\n",
      "[[0, 0, 1, 1, 1], [1, 0, 0, 1, 0], [0, 0, 1, 1, 0], [1, 0, 1, 0, 0], [0, 1, 0, 0, 0], [1, 1, 0, 0, 1], [1, 1, 0, 1, 0], [1, 0, 1, 0, 0], [0, 1, 1, 1, 0], [1, 0, 0, 0, 1]]\n"
     ]
    }
   ],
   "source": [
    "pop_size=10\n",
    "crom_size=5\n",
    "mut_prob=0.7\n",
    "gen_no=5\n",
    "crt_gen(pop_size,crom_size,gen_no,mut_prob)"
   ]
  }
 ],
 "metadata": {
  "kernelspec": {
   "display_name": "Python 3 (ipykernel)",
   "language": "python",
   "name": "python3"
  },
  "language_info": {
   "codemirror_mode": {
    "name": "ipython",
    "version": 3
   },
   "file_extension": ".py",
   "mimetype": "text/x-python",
   "name": "python",
   "nbconvert_exporter": "python",
   "pygments_lexer": "ipython3",
   "version": "3.11.5"
  }
 },
 "nbformat": 4,
 "nbformat_minor": 5
}
